{
 "cells": [
  {
   "cell_type": "code",
   "execution_count": 8,
   "metadata": {},
   "outputs": [],
   "source": [
    "import numpy as np\n",
    "import matplotlib.pyplot as plt\n",
    "from scipy.spatial import Voronoi, voronoi_plot_2d"
   ]
  },
  {
   "cell_type": "code",
   "execution_count": 9,
   "metadata": {},
   "outputs": [],
   "source": [
    "def reflect(points: list, p1: list, p2: list):\n",
    "    if p1[0] == p2[0]:  # line is vertical\n",
    "        return [[2 * p1[0] - x[0], x[1]] for x in points]\n",
    "    \n",
    "    # information about the line across which 'points' are reflected\n",
    "    grad = (p2[1] - p1[1]) / (p2[0] - p1[0])  # slope of line\n",
    "    y_int = p1[1] - grad * p1[0]              # y-intercept of line\n",
    "    \n",
    "    answer = []\n",
    "    for x in points:\n",
    "        new_x = (x[0] * (1 - grad ** 2) + 2 * grad * (x[1] - y_int)) / (1 + grad ** 2)\n",
    "        new_y = (x[1] * (grad ** 2 - 1) + 2 * (grad * x[0] + y_int)) / (1 + grad ** 2)\n",
    "        answer.append([new_x, new_y])\n",
    "    return answer"
   ]
  },
  {
   "cell_type": "code",
   "execution_count": 10,
   "metadata": {},
   "outputs": [],
   "source": [
    "# TODO -- find out what format the cells are in\n",
    "# (perhaps this function is not necessary)\n",
    "\n",
    "def reformat_cells(cells, generators):\n",
    "    \"\"\"reformat 'cells' into a format compatible with other functions\n",
    "    \n",
    "    @param  cells - (?) cells given by voronoi()\n",
    "    @return (list[list[list[real]]]) list of cells; \n",
    "            each cell consists of a list of triangles; \n",
    "            each triangle consists of list of vertices in counter-clockwise order\n",
    "    \"\"\"\n",
    "    answer = []\n",
    "    for i, cell in enumerate(cells):\n",
    "        # note the generator of the current cell\n",
    "        gen = generators[i]\n",
    "        \n",
    "        # sort the vertices of the cell/polygon in counter-clockwise order\n",
    "        # using the inverse tangent function as key\n",
    "        curr = sorted(cell, key = lambda p : np.arctan2(p[1] - gen[1], p[0] - gen[0]))\n",
    "        \n",
    "        # every adjacent pair of elements in'curr' plus the generator\n",
    "        # form a triangle in the correct orientation; just gather them up here\n",
    "        temp = [[gen, curr[i], curr[i - 1]] for i in range(1, len(curr))]\n",
    "        temp.append([gen, curr[0], curr[-1]])\n",
    "        answer.append(temp)\n",
    "        \n",
    "    return answer"
   ]
  },
  {
   "cell_type": "code",
   "execution_count": 11,
   "metadata": {},
   "outputs": [],
   "source": [
    "def voronoi(domain, generators):\n",
    "    original_length = len(generators)\n",
    "    \n",
    "    # reflect points across boundaries\n",
    "    domain.append(domain[0])\n",
    "    temp = []\n",
    "    for i in range(1, len(domain)):\n",
    "        temp.extend(reflect(generators, domain[i - 1], domain[i]))\n",
    "    generators.extend(temp)\n",
    "    \n",
    "    # generate Voronoi diagram; then remove added points\n",
    "    vor = Voronoi(generators)\n",
    "    cells = []\n",
    "    for i in vor.point_region[:original_length]:\n",
    "        cells.append([vor.vertices[j] for j in vor.regions[i]])\n",
    "    \n",
    "    # return the cells reformatted in desired way\n",
    "    return reformat_cells(cells, generators)"
   ]
  },
  {
   "cell_type": "code",
   "execution_count": 12,
   "metadata": {},
   "outputs": [],
   "source": [
    "# Hard-coded points and weights for Gaussian quadrature\n",
    "# TODO -- find points and weights for higher order precision\n",
    "POINTS_X = [1/3, 1/5, 3/5, 1/5]\n",
    "POINTS_Y = [1/3, 1/5, 1/5, 3/5]\n",
    "WEIGHTS = [-27/96, 25/96, 25/96, 25/96]\n",
    "\n",
    "\n",
    "def integrate(domain, function):\n",
    "    \"\"\"integrate 'function' over 'domain' that is a triangle in R2\n",
    "    \n",
    "    @param  domain - (list[list[real]]) three vertices of a triangle\n",
    "    @param  function - (lambda real, real) function to be integrated\n",
    "    @param  (real) result evaluated using Gaussian quadrature\n",
    "    \n",
    "    Change of variable: use standard basis vectors e1, e2.\n",
    "    If the domain is [[a1, a2], [b1, b2], [c1, c2]], then the transformation is\n",
    "        x = (b1 - a1) * e1 + (c1 - a1) * e2 + a1\n",
    "        y = (b2 - a2) * e1 + (c2 - a2) * e2 + a2\n",
    "    The Jacobian of this transformation is\n",
    "        [[b1 - a1, c1 - a1], \n",
    "         [b2 - a2, c2 - a2]]\n",
    "    The determinant of the Jacobian is\n",
    "        (b1 - a1) * (c2 - a2) - (b2 - a2) * (c1 - a1)\n",
    "    \"\"\"\n",
    "    a, b, c = domain[0], domain[1], domain[2]\n",
    "    jacobian = (b[0] - a[0]) * (c[1] - a[1]) - (b[1] - a[1]) * (c[0] - a[0])\n",
    "    \n",
    "    # Gaussian quadrature with variable-changed function\n",
    "    return sum(jacobian * w * function((b[0] - a[0]) * u + (c[0] - a[0]) * v + a[0], \n",
    "                                       (b[1] - a[1]) * u + (c[1] - a[1]) * v + a[1]) \n",
    "               for u, v, w in zip(POINTS_X, POINTS_Y, WEIGHTS))"
   ]
  },
  {
   "cell_type": "code",
   "execution_count": 15,
   "metadata": {},
   "outputs": [],
   "source": [
    "def get_centroid(cells, density):\n",
    "    \"\"\"compute and return the centroid of each cell\n",
    "    \n",
    "    @param  cells - (list[list[list[real]]]) represents the cells; \n",
    "                    each element is the set of triangles that make up the cell\n",
    "    @param  density - (lambda real, real) density function over the overall domain\n",
    "    @return (list[list[real]]) new generators which are centroids of cells\n",
    "    \n",
    "    To compute the centroid of a given cell which is a polygon, \n",
    "        we split the cell into triangles and integrate each triangle.\n",
    "    The two coordinates are computed separately, then added to 'answer'\n",
    "        that gathers all the centroids\n",
    "    \"\"\"\n",
    "    answer = []\n",
    "    for cell in cells:\n",
    "        # find centroid of current 'cell'\n",
    "        x = sum(integrate(triangle, lambda x, y : x * density(x, y)) \n",
    "                for triangle in cell)\n",
    "        y = sum(integrate(triangle, lambda x, y : y * density(x, y)) \n",
    "                for triangle in cell)\n",
    "        mass = sum(integrate(triangle, density) for triangle in cell)\n",
    "        answer.append([x / mass, y / mass])\n",
    "    return answer"
   ]
  },
  {
   "cell_type": "code",
   "execution_count": 19,
   "metadata": {},
   "outputs": [
    {
     "data": {
      "text/plain": [
       "<matplotlib.collections.PathCollection at 0x114040970>"
      ]
     },
     "execution_count": 19,
     "metadata": {},
     "output_type": "execute_result"
    },
    {
     "data": {
      "image/png": "[encoded data removed]",
      "text/plain": [
       "<Figure size 432x288 with 1 Axes>"
      ]
     },
     "metadata": {
      "needs_background": "light"
     },
     "output_type": "display_data"
    }
   ],
   "source": [
    "def lloyd(domain, init, density):\n",
    "    \"\"\"Lloyd's method with domain, initial guess points, and density function\n",
    "    \n",
    "    @param  domain - (list[list[real]]) vertices of the polygon that is the domain\n",
    "    @param  init - (list[list[real]]) initial guess for generators of Voronoi cells\n",
    "    @param  density - (lambda real, real) density function over 'domain'\n",
    "    @return (list[list[real]]) generators of Voronoi cells\n",
    "    \"\"\"\n",
    "    curr = init\n",
    "    for _ in range(1000): # TODO -- some condition\n",
    "        # obtain the cells of the Voronoi diagram using 'curr' as generators\n",
    "        cells = voronoi(domain, curr)\n",
    "        \n",
    "        # update 'curr' by obtaining the centroids of 'cells'\n",
    "        curr = get_centroid(cells, density)\n",
    "    return curr\n",
    "\n",
    "\n",
    "# testing\n",
    "domain = [[1, 1], [-1, 1], [-1, -1], [1, -1]]\n",
    "generators = [[0, 0], [0, 0.5], [0.5, 0.7], [-0.3, 0.2], [-0.5, -0.8]]\n",
    "test = lloyd(domain, generators, lambda x, y : 1)\n",
    "plt.scatter([x[0] for x in test], [x[1] for x in test])"
   ]
  },
  {
   "cell_type": "markdown",
   "metadata": {},
   "source": [
    "Testing different packages of Voronoi diagram below:"
   ]
  },
  {
   "cell_type": "code",
   "execution_count": 42,
   "metadata": {},
   "outputs": [
    {
     "name": "stdout",
     "output_type": "stream",
     "text": [
      "vertices [[2.5 0.5]\n",
      " [1.5 1.5]]\n",
      "regions [[-1, 0], [-1, 1], [-1, 0, 1], [-1, 0, 1], []]\n",
      "point_region [3 1 2 0]\n"
     ]
    },
    {
     "data": {
      "image/png": "[encoded data removed]",
      "text/plain": [
       "<Figure size 432x288 with 1 Axes>"
      ]
     },
     "metadata": {
      "needs_background": "light"
     },
     "output_type": "display_data"
    }
   ],
   "source": [
    "from scipy.spatial import Voronoi, voronoi_plot_2d\n",
    "import numpy as np\n",
    "import matplotlib.pyplot as plt\n",
    "\n",
    "points = np.array([[0, 1], [0, 2], [2, 3], [3, 3]])\n",
    "vor = Voronoi(points)\n",
    "fig = voronoi_plot_2d(vor)\n",
    "print(\"vertices\", vor.vertices)\n",
    "print(\"regions\", vor.regions)\n",
    "print(\"point_region\", vor.point_region)"
   ]
  }
 ],
 "metadata": {
  "kernelspec": {
   "display_name": "Python 3",
   "language": "python",
   "name": "python3"
  },
  "language_info": {
   "codemirror_mode": {
    "name": "ipython",
    "version": 3
   },
   "file_extension": ".py",
   "mimetype": "text/x-python",
   "name": "python",
   "nbconvert_exporter": "python",
   "pygments_lexer": "ipython3",
   "version": "3.8.5"
  }
 },
 "nbformat": 4,
 "nbformat_minor": 4
}
